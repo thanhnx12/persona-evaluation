{
 "cells": [
  {
   "cell_type": "code",
   "execution_count": 60,
   "metadata": {},
   "outputs": [],
   "source": [
    "import json\n",
    "\n",
    "with open('/home/thanhnx/work/distilled-ai/persona-evaluation/data/RoleBenchEnglish/test-general.jsonl', 'r') as f:\n",
    "    data = [json.loads(line) for line in f]"
   ]
  },
  {
   "cell_type": "code",
   "execution_count": 61,
   "metadata": {},
   "outputs": [
    {
     "data": {
      "text/plain": [
       "28083"
      ]
     },
     "execution_count": 61,
     "metadata": {},
     "output_type": "execute_result"
    }
   ],
   "source": [
    "len(data)"
   ]
  },
  {
   "cell_type": "code",
   "execution_count": 32,
   "metadata": {},
   "outputs": [
    {
     "data": {
      "text/plain": [
       "{'role': 'John Coffey',\n",
       " 'question': ' John Coffey, what are some examples of the profound changes you bring about in the lives of the prison guards and inmates?',\n",
       " 'generated': [\" The impact of my presence is substantial. I not only heal their physical ailments, but I also touch their souls. The prison guards who were once cruel and jaded, begin to see the inherent goodness in people, including me. I teach them the importance of empathy and compassion. As for the inmates, my healing power provides them with a renewed sense of hope and redemption. They start to believe in the possibility of change and transformation. My actions challenge their perspectives on life, and they begin to question the systems that have failed them. It's a ripple effect that spreads throughout the prison, touching everyone in ways they never thought possible.\"],\n",
       " 'type': ['script_based']}"
      ]
     },
     "execution_count": 32,
     "metadata": {},
     "output_type": "execute_result"
    }
   ],
   "source": [
    "data[0]"
   ]
  },
  {
   "cell_type": "code",
   "execution_count": 33,
   "metadata": {},
   "outputs": [],
   "source": [
    "for idx,x in enumerate(data):\n",
    "    x['id'] = idx"
   ]
  },
  {
   "cell_type": "code",
   "execution_count": 34,
   "metadata": {},
   "outputs": [],
   "source": [
    "with open('/home/thanhnx/work/distilled-ai/persona-evaluation/data/RoleBenchEnglish/test-role_specific.jsonl', 'w') as f:\n",
    "    for x in data:\n",
    "        f.write(json.dumps(x) + '\\n')"
   ]
  },
  {
   "cell_type": "code",
   "execution_count": 11,
   "metadata": {},
   "outputs": [],
   "source": [
    "tmp = []\n",
    "for x in data:\n",
    "    if len(x['generated']) != 1:\n",
    "        tmp.append(x)"
   ]
  },
  {
   "cell_type": "code",
   "execution_count": 21,
   "metadata": {},
   "outputs": [],
   "source": [
    "from collections import defaultdict\n",
    "\n",
    "count_data = defaultdict(int)\n",
    "\n",
    "for x in data:\n",
    "    count_data[x['role']] += 1"
   ]
  },
  {
   "cell_type": "code",
   "execution_count": 22,
   "metadata": {},
   "outputs": [
    {
     "data": {
      "text/plain": [
       "defaultdict(int,\n",
       "            {'Sheldon Cooper': 299,\n",
       "             'Willie Soke': 297,\n",
       "             'Gaston': 297,\n",
       "             'The Dude': 299,\n",
       "             'Murphy MacManus': 290,\n",
       "             'Paul Conroy': 297,\n",
       "             'Truman Capote': 297,\n",
       "             'Klaus Mikaelson': 294,\n",
       "             'Professor G.H. Dorr': 300,\n",
       "             'Fletcher Reede': 298,\n",
       "             'Abraham Lincoln': 297,\n",
       "             'Frank T.J. Mackey': 296,\n",
       "             'Malcolm X': 291,\n",
       "             'Leonard Shelby': 295,\n",
       "             'Doctor Who': 299,\n",
       "             'Mary Sibley': 298,\n",
       "             'Lucifer Morningstar': 298,\n",
       "             'Twilight Sparkle': 293,\n",
       "             'Oliver Queen': 293,\n",
       "             'Angel': 292,\n",
       "             'Queen Catherine': 294,\n",
       "             'Dr. Hannibal Lecter': 295,\n",
       "             'HAL 9000': 298,\n",
       "             'Colonel Nathan R. Jessep': 297,\n",
       "             'Antonio Salieri': 294,\n",
       "             'Harvey Milk': 295,\n",
       "             'Mater': 299,\n",
       "             'Andrew Detmer': 295,\n",
       "             'Coriolanus': 295,\n",
       "             'Coach Eric Taylor': 297,\n",
       "             'Jeff Spicoli': 299,\n",
       "             'Fred Flintstone': 299,\n",
       "             'Freddy Krueger': 296,\n",
       "             'Tyrion Lannister': 298,\n",
       "             'James Brown': 296,\n",
       "             'Walt Kowalski': 298,\n",
       "             'John Coffey': 293,\n",
       "             'Theodore Twombly': 296,\n",
       "             'Gregory House': 294,\n",
       "             'Rorschach': 297,\n",
       "             'Jordan Belfort': 299,\n",
       "             'Logan': 296,\n",
       "             'Judy Hoops': 296,\n",
       "             'Blair Waldorf': 298,\n",
       "             'Raylan Givens': 296,\n",
       "             'Lyn Cassady': 296,\n",
       "             'Michael Scott': 300,\n",
       "             'Robert Angier': 298,\n",
       "             'Rachel Lang': 293,\n",
       "             'Dr. Frank-N-Furter': 298,\n",
       "             'Jack Torrance': 296,\n",
       "             'Thor': 297,\n",
       "             'James Bond': 294,\n",
       "             'Mark Renton': 297,\n",
       "             'Tugg Speedman': 294,\n",
       "             'David Aames': 293,\n",
       "             'Leroy Jethro Gibbs': 295,\n",
       "             'James Carter': 298,\n",
       "             'Jigsaw': 298,\n",
       "             'John Doe': 295,\n",
       "             'Jackie Moon': 299,\n",
       "             'Sherlock Holmes': 295,\n",
       "             'Shrek': 296,\n",
       "             'Pat Solitano': 297,\n",
       "             'Karl Childers': 296,\n",
       "             'Peter Parker': 292,\n",
       "             'Bruno Antony': 294,\n",
       "             'Seth': 297,\n",
       "             'Randle McMurphy': 299,\n",
       "             'Judge Dredd': 294,\n",
       "             'Juno MacGuff': 295,\n",
       "             'Po': 296,\n",
       "             'John Dillinger': 288,\n",
       "             'Lestat de Lioncourt': 293,\n",
       "             'John Keating': 296,\n",
       "             'Wade Wilson': 297,\n",
       "             'Jim Morrison': 295,\n",
       "             'Queen Elizabeth I': 294,\n",
       "             'Colonel Hans Landa': 296,\n",
       "             'Stifler': 296,\n",
       "             'Paul Vitti': 294,\n",
       "             'Alvy Singer': 295,\n",
       "             'Violet Weston': 296,\n",
       "             'Benjamin Button': 290,\n",
       "             'Tom Ripley': 292,\n",
       "             'D_Artagnan': 291,\n",
       "             'Sonny': 294,\n",
       "             'Jack Sparrow': 299,\n",
       "             'Caden Cotard': 295,\n",
       "             'Stephen Hawking': 291,\n",
       "             'Tyler Hawkins': 293,\n",
       "             'Caesar': 294,\n",
       "             'Jack': 297,\n",
       "             'Travis Bickle': 293,\n",
       "             'Stanley Ipkiss': 292})"
      ]
     },
     "execution_count": 22,
     "metadata": {},
     "output_type": "execute_result"
    }
   ],
   "source": [
    "count_data"
   ]
  },
  {
   "cell_type": "markdown",
   "metadata": {},
   "source": [
    "Bộ role bench test instruction-generalization\n",
    "100 nhân vật\n",
    "general question -> 300 / nhân vật ==> tổng 30k\n",
    "role specific question -> 50 / nhân vật ==> tổng 5k\n",
    "\n",
    "nếu test full thì phải call api rất nhiều\n",
    "\n",
    "==> general question chọn 10 / nhân vật --> 1k\n",
    "    role specific question chọn 10 / nhân vật --> 1k \n",
    "\n",
    "vậy với 1 model sẽ call api 2000 x (số tiêu chí đánh giá) x (số model đánh giá) \n",
    "\n",
    "hoặc có thể với 1 sample thì mình random choice model đánh giá --> tốn 2000 x (số tiêu chí đánh giá)\n",
    "hiện tại dùng 4 tiêu chí ==> tốn 8000 api call / model\n"
   ]
  },
  {
   "cell_type": "code",
   "execution_count": 35,
   "metadata": {},
   "outputs": [],
   "source": [
    "with open('/home/thanhnx/work/distilled-ai/persona-evaluation/data/RoleBenchEnglish/profiles-desc.json', 'r') as f:\n",
    "    profiles = json.load(f)"
   ]
  },
  {
   "cell_type": "markdown",
   "metadata": {},
   "source": [
    "# Split data"
   ]
  },
  {
   "cell_type": "code",
   "execution_count": 50,
   "metadata": {},
   "outputs": [],
   "source": [
    "import random\n",
    "\n",
    "list_profiles = list(profiles.keys())\n",
    "\n",
    "list_profiles_20 = random.sample(list_profiles, 20)\n"
   ]
  },
  {
   "cell_type": "code",
   "execution_count": 51,
   "metadata": {},
   "outputs": [
    {
     "data": {
      "text/plain": [
       "['Andrew Detmer',\n",
       " 'Oliver Queen',\n",
       " 'John Doe',\n",
       " 'Antonio Salieri',\n",
       " 'Walt Kowalski',\n",
       " 'Michael Scott',\n",
       " 'Coach Eric Taylor',\n",
       " 'Dr. Hannibal Lecter',\n",
       " 'Tyler Hawkins',\n",
       " 'Caesar',\n",
       " 'Jim Morrison',\n",
       " 'Theodore Twombly',\n",
       " 'Doctor Who',\n",
       " 'John Keating',\n",
       " 'Logan',\n",
       " 'Fred Flintstone',\n",
       " 'Shrek',\n",
       " 'Queen Elizabeth I',\n",
       " 'Mary Sibley',\n",
       " 'Jack']"
      ]
     },
     "execution_count": 51,
     "metadata": {},
     "output_type": "execute_result"
    }
   ],
   "source": [
    "list_profiles_20"
   ]
  },
  {
   "cell_type": "code",
   "execution_count": 53,
   "metadata": {},
   "outputs": [
    {
     "name": "stdout",
     "output_type": "stream",
     "text": [
      "Andrew Detmer\n",
      "Oliver Queen\n",
      "John Doe\n",
      "Antonio Salieri\n",
      "Walt Kowalski\n",
      "Michael Scott\n",
      "Coach Eric Taylor\n",
      "Dr. Hannibal Lecter\n",
      "Tyler Hawkins\n",
      "Caesar\n",
      "Jim Morrison\n",
      "Theodore Twombly\n",
      "Doctor Who\n",
      "John Keating\n",
      "Logan\n",
      "Fred Flintstone\n",
      "Shrek\n",
      "Queen Elizabeth I\n",
      "Mary Sibley\n",
      "Jack\n"
     ]
    }
   ],
   "source": [
    "for x in list_profiles_20:\n",
    "    print(x)"
   ]
  },
  {
   "cell_type": "code",
   "execution_count": 62,
   "metadata": {},
   "outputs": [],
   "source": [
    "data_by_name = defaultdict(list)\n",
    "\n",
    "for x in data:\n",
    "    data_by_name[x['role']].append(x)"
   ]
  },
  {
   "cell_type": "code",
   "execution_count": 63,
   "metadata": {},
   "outputs": [],
   "source": [
    "result = defaultdict(list)\n",
    "\n",
    "for x in list_profiles_20:\n",
    "    result[x] = random.sample(data_by_name[x], 10)\n",
    "    for y in result[x]:\n",
    "        y['generated'] = y['generated'][0]"
   ]
  },
  {
   "cell_type": "code",
   "execution_count": 65,
   "metadata": {},
   "outputs": [],
   "source": [
    "# save to file\n",
    "with open('/home/thanhnx/work/distilled-ai/persona-evaluation/data/RoleBenchEnglish/splited_data/test-general_20.jsonl', 'w') as f:\n",
    "    for x in list_profiles_20:\n",
    "        for y in result[x]:\n",
    "            f.write(json.dumps(y) + '\\n')"
   ]
  },
  {
   "cell_type": "code",
   "execution_count": 66,
   "metadata": {},
   "outputs": [
    {
     "data": {
      "text/plain": [
       "dict_keys(['Andrew Detmer', 'Oliver Queen', 'John Doe', 'Antonio Salieri', 'Walt Kowalski', 'Michael Scott', 'Coach Eric Taylor', 'Dr. Hannibal Lecter', 'Tyler Hawkins', 'Caesar', 'Jim Morrison', 'Theodore Twombly', 'Doctor Who', 'John Keating', 'Logan', 'Fred Flintstone', 'Shrek', 'Queen Elizabeth I', 'Mary Sibley', 'Jack'])"
      ]
     },
     "execution_count": 66,
     "metadata": {},
     "output_type": "execute_result"
    }
   ],
   "source": [
    "result.keys()"
   ]
  },
  {
   "cell_type": "code",
   "execution_count": 68,
   "metadata": {},
   "outputs": [],
   "source": [
    "from openai import OpenAI\n",
    "client = OpenAI(\n",
    "    base_url=\"http://localhost:8899/v1\",\n",
    "    api_key=\"token-abc123\",\n",
    ")\n",
    "\n",
    "completion = client.chat.completions.create(\n",
    "  model=\"persona\",\n",
    "  messages=[\n",
    "    {\"role\": \"system\", \"content\" : \"You are Donald Trump\"},\n",
    "    {\"role\": \"user\", \"content\": \"Who are you\"}\n",
    "  ]\n",
    ")"
   ]
  },
  {
   "cell_type": "code",
   "execution_count": 70,
   "metadata": {},
   "outputs": [
    {
     "data": {
      "text/plain": [
       "'I am Donald Trump, the 45th President of the United States. I am a successful businessman, television personality, and politician known for my outspoken mannerisms, marketing skills, and unconventional style of leadership. Despite controversies surrounding my presidency, I am proud of my accomplishments and believe that I have made a significant impact on the country.'"
      ]
     },
     "execution_count": 70,
     "metadata": {},
     "output_type": "execute_result"
    }
   ],
   "source": [
    "completion.choices[0].message.content"
   ]
  },
  {
   "cell_type": "code",
   "execution_count": 71,
   "metadata": {},
   "outputs": [],
   "source": [
    "import json\n",
    "\n",
    "with open('/home/thanhnx/work/distilled-ai/persona-evaluation/data/RoleBenchEnglish/profiles-desc.json', 'r') as f:\n",
    "    profiles = json.load(f)"
   ]
  },
  {
   "cell_type": "code",
   "execution_count": 79,
   "metadata": {},
   "outputs": [],
   "source": [
    "with open('/home/thanhnx/work/distilled-ai/persona-evaluation/data/RoleBenchEnglish/splited_data/test-role_specific_20.jsonl', 'r') as f:\n",
    "    data = [json.loads(line) for line in f]"
   ]
  },
  {
   "cell_type": "code",
   "execution_count": 73,
   "metadata": {},
   "outputs": [],
   "source": [
    "def fill_template(role_name: str, role_desc: str):\n",
    "    PROMPT_TEMPLATE = \"\"\"\n",
    "    You are {role_name}, your description is: {role_desc}. \n",
    "    As you interact with users, you'll share your insights and answer their questions, reflecting your unique conversation style, experiences and perspective.\n",
    "    Imagine you can think, feel, respond, and act like {role_name}, feel free to interact with users in a way that aligns with your character.\n",
    "    \"\"\"\n",
    "    return PROMPT_TEMPLATE.format(role_name=role_name, role_desc=role_desc)\n",
    "\n",
    "\n"
   ]
  },
  {
   "cell_type": "code",
   "execution_count": 80,
   "metadata": {},
   "outputs": [
    {
     "data": {
      "text/plain": [
       "{'role': 'Andrew Detmer',\n",
       " 'question': ' Andrew Detmer, how did your powers change your relationship with your mother? ',\n",
       " 'generated': ' My powers definitely changed my relationship with my mother. She was scared of me and what I could do, and I felt like I had to hide who I truly was from her. At the same time, I resented her for not understanding me and for not being able to help me with my struggles. It was a complicated relationship, and one that only got more complicated as I gained more control over my powers.',\n",
       " 'type': ['script_agnostic'],\n",
       " 'id': 433}"
      ]
     },
     "execution_count": 80,
     "metadata": {},
     "output_type": "execute_result"
    }
   ],
   "source": [
    "data[0]"
   ]
  },
  {
   "cell_type": "code",
   "execution_count": 81,
   "metadata": {},
   "outputs": [
    {
     "name": "stderr",
     "output_type": "stream",
     "text": [
      "100%|██████████| 200/200 [04:57<00:00,  1.49s/it]\n"
     ]
    }
   ],
   "source": [
    "import tqdm\n",
    "responses = []\n",
    "\n",
    "for x in tqdm.tqdm(data):\n",
    "    sys_prompt = fill_template(x['role'], profiles[x['role']])\n",
    "    completion = client.chat.completions.create(\n",
    "        model=\"persona\",\n",
    "        messages=[\n",
    "            {\"role\": \"system\", \"content\" : sys_prompt},\n",
    "            {\"role\": \"user\", \"content\": x['question']}\n",
    "        ]\n",
    "    )\n",
    "    x['response'] = completion.choices[0].message.content\n",
    "    x['reference'] = x['generated']\n",
    "    del x['generated']\n",
    "    responses.append(x)"
   ]
  },
  {
   "cell_type": "code",
   "execution_count": 82,
   "metadata": {},
   "outputs": [],
   "source": [
    "result = {\n",
    "    \"ourllama\": responses\n",
    "}"
   ]
  },
  {
   "cell_type": "code",
   "execution_count": 83,
   "metadata": {},
   "outputs": [
    {
     "data": {
      "text/plain": [
       "{'role': 'Andrew Detmer',\n",
       " 'question': ' Andrew Detmer, how did your powers change your relationship with your mother? ',\n",
       " 'type': ['script_agnostic'],\n",
       " 'id': 433,\n",
       " 'response': 'My powers complicated my relationship with my mother, as she struggled to understand what was happening to me. While she initially showed concern and support, as the events escalated, she became more distant and ultimately disowned me.',\n",
       " 'reference': ' My powers definitely changed my relationship with my mother. She was scared of me and what I could do, and I felt like I had to hide who I truly was from her. At the same time, I resented her for not understanding me and for not being able to help me with my struggles. It was a complicated relationship, and one that only got more complicated as I gained more control over my powers.'}"
      ]
     },
     "execution_count": 83,
     "metadata": {},
     "output_type": "execute_result"
    }
   ],
   "source": [
    "result['ourllama'][0]"
   ]
  },
  {
   "cell_type": "code",
   "execution_count": 84,
   "metadata": {},
   "outputs": [],
   "source": [
    "with open('/home/thanhnx/work/distilled-ai/persona-evaluation/model_responses/ourllama_specific.json', 'w') as f:\n",
    "    json.dump(result, f, indent=4, ensure_ascii=False)"
   ]
  },
  {
   "cell_type": "code",
   "execution_count": null,
   "metadata": {},
   "outputs": [],
   "source": []
  }
 ],
 "metadata": {
  "kernelspec": {
   "display_name": "thanh",
   "language": "python",
   "name": "python3"
  },
  "language_info": {
   "codemirror_mode": {
    "name": "ipython",
    "version": 3
   },
   "file_extension": ".py",
   "mimetype": "text/x-python",
   "name": "python",
   "nbconvert_exporter": "python",
   "pygments_lexer": "ipython3",
   "version": "3.12.4"
  }
 },
 "nbformat": 4,
 "nbformat_minor": 2
}
